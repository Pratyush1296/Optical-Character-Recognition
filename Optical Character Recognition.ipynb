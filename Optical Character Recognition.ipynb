{
 "cells": [
  {
   "cell_type": "markdown",
   "id": "0ea5a744",
   "metadata": {},
   "source": [
    "## The Sparks Foundation\n",
    "### Task 4 (Computer Vision & IoT) - Optical Character Recognition\n",
    "### Pratyush Yadav"
   ]
  },
  {
   "cell_type": "markdown",
   "id": "83272c67",
   "metadata": {},
   "source": [
    "### Importing the necessary packages"
   ]
  },
  {
   "cell_type": "code",
   "execution_count": null,
   "id": "4f44e80e",
   "metadata": {},
   "outputs": [],
   "source": [
    "import cv2 #opencv for python\n",
    "import numpy as np\n",
    "\n",
    "#Packages for plotting purposes\n",
    "import matplotlib.pyplot as plt\n",
    "import matplotlib.image as mpimg\n",
    "\n",
    "#For Reading Text from Images\n",
    "import easyocr"
   ]
  },
  {
   "cell_type": "markdown",
   "id": "66121bc6",
   "metadata": {},
   "source": [
    "### Loading the Image "
   ]
  },
  {
   "cell_type": "code",
   "execution_count": null,
   "id": "edb2783a",
   "metadata": {},
   "outputs": [],
   "source": [
    "reader = easyocr.Reader(['en'], gpu=False) # load once only in memory.\n",
    "img_path = 'C:/Users/Pratyush Yadav/Desktop/test5.jpg'\n",
    "img = cv2.imread(img_path)\n",
    "plt.figure(figsize=(10,15))\n",
    "plt.imshow(img)\n",
    "plt.show()"
   ]
  },
  {
   "cell_type": "markdown",
   "id": "5920c402",
   "metadata": {},
   "source": [
    "### Printing the Text"
   ]
  },
  {
   "cell_type": "code",
   "execution_count": null,
   "id": "71e216fc",
   "metadata": {},
   "outputs": [],
   "source": [
    "result = reader.readtext(img_path, paragraph=\"False\")\n",
    "\n",
    "for i in range(len(result)):\n",
    "    print(result[i][1]+'\\n')"
   ]
  },
  {
   "cell_type": "markdown",
   "id": "0c0b19fc",
   "metadata": {},
   "source": [
    "### Enclosing the text in a box\n"
   ]
  },
  {
   "cell_type": "code",
   "execution_count": null,
   "id": "713c8722",
   "metadata": {},
   "outputs": [],
   "source": [
    "for detection in result: \n",
    "    top_left = tuple(detection[0][0])\n",
    "    bottom_right = tuple(detection[0][2])\n",
    "    text = detection[1]\n",
    "    img = cv2.rectangle(img,top_left,bottom_right,(0,255,0),3)\n",
    "plt.figure(figsize=(10,15))\n",
    "plt.imshow(img)\n",
    "plt.show()"
   ]
  },
  {
   "cell_type": "markdown",
   "id": "2e31a914",
   "metadata": {},
   "source": [
    "### Bringing it all together (Test 2)"
   ]
  },
  {
   "cell_type": "code",
   "execution_count": null,
   "id": "c9077b90",
   "metadata": {},
   "outputs": [],
   "source": [
    "reader = easyocr.Reader(['en'], gpu=False) # load once only in memory.\n",
    "img_path = 'C:/Users/Pratyush Yadav/Desktop/test2.jfif'\n",
    "img = cv2.imread(img_path)\n",
    "\n",
    "fig = plt.figure(figsize=(10, 7))\n",
    "fig.add_subplot(1,2,1)\n",
    "plt.imshow(img)\n",
    "plt.axis('off')\n",
    "plt.title('Original Image')\n",
    "\n",
    "result = reader.readtext(img_path, paragraph=\"False\")\n",
    "\n",
    "print('OUTPUT:\\n')\n",
    "for i in range(len(result)):\n",
    "    print(\"\\033[1m\"+result[i][1]+\"\\033[0;0m\\n\")\n",
    "    \n",
    "for detection in result: \n",
    "    top_left = tuple(detection[0][0])\n",
    "    bottom_right = tuple(detection[0][2])\n",
    "    text = detection[1]\n",
    "    img = cv2.rectangle(img,top_left,bottom_right,(0,255,0),3)\n",
    "\n",
    "fig.add_subplot(1,2,2)\n",
    "plt.imshow(img)\n",
    "plt.axis('off')\n",
    "plt.title('Annotated Image')\n",
    "plt.show()"
   ]
  },
  {
   "cell_type": "code",
   "execution_count": null,
   "id": "66c4f7d6",
   "metadata": {},
   "outputs": [],
   "source": []
  }
 ],
 "metadata": {
  "kernelspec": {
   "display_name": "Python 3",
   "language": "python",
   "name": "python3"
  },
  "language_info": {
   "codemirror_mode": {
    "name": "ipython",
    "version": 3
   },
   "file_extension": ".py",
   "mimetype": "text/x-python",
   "name": "python",
   "nbconvert_exporter": "python",
   "pygments_lexer": "ipython3",
   "version": "3.9.5"
  }
 },
 "nbformat": 4,
 "nbformat_minor": 5
}
